{
 "cells": [
  {
   "cell_type": "code",
   "execution_count": 1,
   "metadata": {},
   "outputs": [],
   "source": [
    "import matplotlib \n",
    "import matplotlib.pyplot as plt\n",
    "import seaborn as sns\n",
    "import pandas as pd\n",
    "import numpy as np"
   ]
  },
  {
   "cell_type": "markdown",
   "metadata": {},
   "source": [
    "# Reading CSV"
   ]
  },
  {
   "cell_type": "code",
   "execution_count": 17,
   "metadata": {},
   "outputs": [
    {
     "data": {
      "text/html": [
       "<div>\n",
       "<style scoped>\n",
       "    .dataframe tbody tr th:only-of-type {\n",
       "        vertical-align: middle;\n",
       "    }\n",
       "\n",
       "    .dataframe tbody tr th {\n",
       "        vertical-align: top;\n",
       "    }\n",
       "\n",
       "    .dataframe thead th {\n",
       "        text-align: right;\n",
       "    }\n",
       "</style>\n",
       "<table border=\"1\" class=\"dataframe\">\n",
       "  <thead>\n",
       "    <tr style=\"text-align: right;\">\n",
       "      <th></th>\n",
       "      <th>label</th>\n",
       "      <th>x_max</th>\n",
       "      <th>x_min</th>\n",
       "      <th>y_max</th>\n",
       "      <th>y_min</th>\n",
       "      <th>size</th>\n",
       "      <th>height</th>\n",
       "      <th>width</th>\n",
       "      <th>ratio</th>\n",
       "    </tr>\n",
       "  </thead>\n",
       "  <tbody>\n",
       "    <tr>\n",
       "      <th>count</th>\n",
       "      <td>18287.000000</td>\n",
       "      <td>18287.000000</td>\n",
       "      <td>18287.000000</td>\n",
       "      <td>18287.000000</td>\n",
       "      <td>18287.000000</td>\n",
       "      <td>18287.000000</td>\n",
       "      <td>18287.000000</td>\n",
       "      <td>18287.000000</td>\n",
       "      <td>18287.000000</td>\n",
       "    </tr>\n",
       "    <tr>\n",
       "      <th>mean</th>\n",
       "      <td>3.670531</td>\n",
       "      <td>0.421241</td>\n",
       "      <td>0.401624</td>\n",
       "      <td>0.772963</td>\n",
       "      <td>0.563746</td>\n",
       "      <td>786.196460</td>\n",
       "      <td>26.779798</td>\n",
       "      <td>20.088393</td>\n",
       "      <td>2.155365</td>\n",
       "    </tr>\n",
       "    <tr>\n",
       "      <th>std</th>\n",
       "      <td>2.940587</td>\n",
       "      <td>0.289397</td>\n",
       "      <td>0.288513</td>\n",
       "      <td>0.148956</td>\n",
       "      <td>0.090756</td>\n",
       "      <td>2311.536115</td>\n",
       "      <td>16.644690</td>\n",
       "      <td>26.370606</td>\n",
       "      <td>1.440482</td>\n",
       "    </tr>\n",
       "    <tr>\n",
       "      <th>min</th>\n",
       "      <td>1.000000</td>\n",
       "      <td>0.003125</td>\n",
       "      <td>0.000000</td>\n",
       "      <td>0.469531</td>\n",
       "      <td>0.000000</td>\n",
       "      <td>9.989993</td>\n",
       "      <td>3.320000</td>\n",
       "      <td>2.009995</td>\n",
       "      <td>0.110773</td>\n",
       "    </tr>\n",
       "    <tr>\n",
       "      <th>25%</th>\n",
       "      <td>1.000000</td>\n",
       "      <td>0.139873</td>\n",
       "      <td>0.115918</td>\n",
       "      <td>0.656797</td>\n",
       "      <td>0.515977</td>\n",
       "      <td>121.076969</td>\n",
       "      <td>13.910004</td>\n",
       "      <td>6.930012</td>\n",
       "      <td>1.009665</td>\n",
       "    </tr>\n",
       "    <tr>\n",
       "      <th>50%</th>\n",
       "      <td>1.000000</td>\n",
       "      <td>0.464121</td>\n",
       "      <td>0.446846</td>\n",
       "      <td>0.734609</td>\n",
       "      <td>0.562969</td>\n",
       "      <td>261.116130</td>\n",
       "      <td>22.309998</td>\n",
       "      <td>12.709999</td>\n",
       "      <td>1.531452</td>\n",
       "    </tr>\n",
       "    <tr>\n",
       "      <th>75%</th>\n",
       "      <td>7.000000</td>\n",
       "      <td>0.563730</td>\n",
       "      <td>0.543491</td>\n",
       "      <td>0.909258</td>\n",
       "      <td>0.609297</td>\n",
       "      <td>675.330576</td>\n",
       "      <td>36.285000</td>\n",
       "      <td>22.029999</td>\n",
       "      <td>3.266499</td>\n",
       "    </tr>\n",
       "    <tr>\n",
       "      <th>max</th>\n",
       "      <td>8.000000</td>\n",
       "      <td>1.000000</td>\n",
       "      <td>0.996182</td>\n",
       "      <td>1.000000</td>\n",
       "      <td>0.945625</td>\n",
       "      <td>51046.398438</td>\n",
       "      <td>128.000000</td>\n",
       "      <td>398.799988</td>\n",
       "      <td>11.147404</td>\n",
       "    </tr>\n",
       "  </tbody>\n",
       "</table>\n",
       "</div>"
      ],
      "text/plain": [
       "              label         x_max         x_min         y_max         y_min  \\\n",
       "count  18287.000000  18287.000000  18287.000000  18287.000000  18287.000000   \n",
       "mean       3.670531      0.421241      0.401624      0.772963      0.563746   \n",
       "std        2.940587      0.289397      0.288513      0.148956      0.090756   \n",
       "min        1.000000      0.003125      0.000000      0.469531      0.000000   \n",
       "25%        1.000000      0.139873      0.115918      0.656797      0.515977   \n",
       "50%        1.000000      0.464121      0.446846      0.734609      0.562969   \n",
       "75%        7.000000      0.563730      0.543491      0.909258      0.609297   \n",
       "max        8.000000      1.000000      0.996182      1.000000      0.945625   \n",
       "\n",
       "               size        height         width         ratio  \n",
       "count  18287.000000  18287.000000  18287.000000  18287.000000  \n",
       "mean     786.196460     26.779798     20.088393      2.155365  \n",
       "std     2311.536115     16.644690     26.370606      1.440482  \n",
       "min        9.989993      3.320000      2.009995      0.110773  \n",
       "25%      121.076969     13.910004      6.930012      1.009665  \n",
       "50%      261.116130     22.309998     12.709999      1.531452  \n",
       "75%      675.330576     36.285000     22.029999      3.266499  \n",
       "max    51046.398438    128.000000    398.799988     11.147404  "
      ]
     },
     "execution_count": 17,
     "metadata": {},
     "output_type": "execute_result"
    }
   ],
   "source": [
    "data_frame = pd.read_csv('dataset/data_frame.csv')\n",
    "observations = pd.read_csv('dataset/observations.csv')\n",
    "label_text = pd.read_csv(\"dataset/labels.csv\")\n",
    "\n",
    "data_frame.describe()"
   ]
  },
  {
   "cell_type": "markdown",
   "metadata": {},
   "source": [
    "# Making cool looking graphs and shit\n",
    "\n",
    "## Number of observations"
   ]
  },
  {
   "cell_type": "code",
   "execution_count": 14,
   "metadata": {},
   "outputs": [
    {
     "data": {
      "image/png": "[encoded data removed]",
      "text/plain": [
       "<Figure size 360x360 with 1 Axes>"
      ]
     },
     "metadata": {},
     "output_type": "display_data"
    }
   ],
   "source": [
    "sns.set_style({'grid.color': 'white'})\n",
    "\n",
    "# Sum the data, plot bar with given size using color defined\n",
    "ax = sns.catplot(kind='bar', data=observations, x='labels', y='observations', color='#CE389C')\n",
    "\n",
    "# Title of the graph\n",
    "plt.title('No. of observations given a label', size = 20)\n",
    "\n",
    "# Horizontal axis Label\n",
    "plt.xlabel('Labels', size = 17)\n",
    "# Vertical axis Label\n",
    "plt.ylabel('No.of Observation', rotation = 'vertical', size = 17)\n",
    "\n",
    "# x-axis label size, setting label rotations\n",
    "plt.xticks(rotation = 'horizontal', size = 14)\n",
    "# y-axis label size\n",
    "plt.yticks(size = 14)\n",
    "\n",
    "# removing the top and right axes spines, which are not needed\n",
    "sns.despine()\n",
    "\n",
    "# display plot\n",
    "plt.show()"
   ]
  },
  {
   "cell_type": "markdown",
   "metadata": {},
   "source": [
    "## Aspect ratio sizes given labels"
   ]
  }
 ],
 "metadata": {
  "interpreter": {
   "hash": "767d51c1340bd893661ea55ea3124f6de3c7a262a8b4abca0554b478b1e2ff90"
  },
  "kernelspec": {
   "display_name": "Python 3.8.10 64-bit",
   "language": "python",
   "name": "python3"
  },
  "language_info": {
   "codemirror_mode": {
    "name": "ipython",
    "version": 3
   },
   "file_extension": ".py",
   "mimetype": "text/x-python",
   "name": "python",
   "nbconvert_exporter": "python",
   "pygments_lexer": "ipython3",
   "version": "3.8.10"
  },
  "orig_nbformat": 4
 },
 "nbformat": 4,
 "nbformat_minor": 2
}
